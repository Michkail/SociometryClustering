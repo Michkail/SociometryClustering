{
 "cells": [
  {
   "cell_type": "code",
   "execution_count": 6,
   "outputs": [],
   "source": [
    "import pandas as pd\n",
    "\n",
    "data = {\"Timestamp\": ['5/3/2023 19:42:22', '5/3/2023 19:42:22', '5/3/2023 19:42:22', '5/3/2023 19:42:22', '5/3/2023 19:42:22', '5/16/2023 19:42:22', '6/7/2023 19:42:22', '5/5/2023 19:42:22', '5/3/2023 19:42:22', '5/4/2023 19:42:22', '5/22/2023 19:42:22', '5/3/2023 19:42:22', '5/3/2023 19:42:22', '6/7/2023 19:42:22', '6/7/2023 19:42:22', \n",
    "                      ''],\n",
    "        \"Age\": [12, 12, 22],\n",
    "        \"City\": [\"NY\", \"San Franc\", \"Jakarta\"]}\n",
    "\n",
    "df = pd.DataFrame(data)\n",
    "csv_out = 'class_a.csv'\n",
    "\n",
    "df.to_csv(csv_out, index=False)"
   ],
   "metadata": {
    "collapsed": false,
    "ExecuteTime": {
     "end_time": "2023-11-11T17:29:30.423206Z",
     "start_time": "2023-11-11T17:29:30.393328Z"
    }
   },
   "id": "9df220b8340ac843"
  },
  {
   "cell_type": "code",
   "execution_count": 5,
   "outputs": [
    {
     "data": {
      "text/plain": "    Name  Age       City\n0  alice   12         NY\n1    bob   12  San Franc\n2   alex   22    Jakarta",
      "text/html": "<div>\n<style scoped>\n    .dataframe tbody tr th:only-of-type {\n        vertical-align: middle;\n    }\n\n    .dataframe tbody tr th {\n        vertical-align: top;\n    }\n\n    .dataframe thead th {\n        text-align: right;\n    }\n</style>\n<table border=\"1\" class=\"dataframe\">\n  <thead>\n    <tr style=\"text-align: right;\">\n      <th></th>\n      <th>Name</th>\n      <th>Age</th>\n      <th>City</th>\n    </tr>\n  </thead>\n  <tbody>\n    <tr>\n      <th>0</th>\n      <td>alice</td>\n      <td>12</td>\n      <td>NY</td>\n    </tr>\n    <tr>\n      <th>1</th>\n      <td>bob</td>\n      <td>12</td>\n      <td>San Franc</td>\n    </tr>\n    <tr>\n      <th>2</th>\n      <td>alex</td>\n      <td>22</td>\n      <td>Jakarta</td>\n    </tr>\n  </tbody>\n</table>\n</div>"
     },
     "execution_count": 5,
     "metadata": {},
     "output_type": "execute_result"
    }
   ],
   "source": [
    "x = pd.read_csv('oi.csv')\n",
    "x"
   ],
   "metadata": {
    "collapsed": false,
    "ExecuteTime": {
     "end_time": "2023-11-11T17:28:51.613629Z",
     "start_time": "2023-11-11T17:28:51.568012Z"
    }
   },
   "id": "f214b3a8456dcf39"
  },
  {
   "cell_type": "code",
   "execution_count": 3,
   "outputs": [
    {
     "name": "stdout",
     "output_type": "stream",
     "text": [
      "JSON response for page 1 has been saved to output-1.json\n",
      "JSON response for page 2 has been saved to output-2.json\n",
      "JSON response for page 3 has been saved to output-3.json\n",
      "JSON response for page 4 has been saved to output-4.json\n",
      "JSON response for page 5 has been saved to output-5.json\n",
      "JSON response for page 6 has been saved to output-6.json\n",
      "JSON response for page 7 has been saved to output-7.json\n"
     ]
    }
   ],
   "source": [
    "import requests\n",
    "import json\n",
    "\n",
    "base_url = \"http://100.88.17.26:4000/json/clearance/bkn/v2/search\"\n",
    "instansi_id = \"A5EB03E23C3BF6A0E040640A040252AD\"\n",
    "lokasi_kerja_id = \"A5EB03E21F05F6A0E040640A040252AD\"\n",
    "\n",
    "for page_number in range(1, 8):\n",
    "    params = {\n",
    "        'nip': '',\n",
    "        'nama': 'agus',\n",
    "        'instansiId': instansi_id,\n",
    "        'lokasiKerjaId': lokasi_kerja_id,\n",
    "        'page': page_number\n",
    "    }\n",
    "    response = requests.get(base_url, params=params)\n",
    "\n",
    "    if response.status_code == 200:\n",
    "        json_response = response.json()\n",
    "        file_path = f\"output-{page_number}.json\"\n",
    "\n",
    "        with open(file_path, 'w') as json_file:\n",
    "            json.dump(json_response, json_file, indent=4)\n",
    "\n",
    "        print(f\"JSON response for page {page_number} has been saved to {file_path}\")\n",
    "\n",
    "    else:\n",
    "        print(f\"Error: Unable to fetch data from the URL for page {page_number}. Status code: {response.status_code}\")\n"
   ],
   "metadata": {
    "collapsed": false
   }
  },
  {
   "cell_type": "markdown",
   "source": [],
   "metadata": {
    "collapsed": false
   },
   "id": "d7e431b503857942"
  }
 ],
 "metadata": {
  "kernelspec": {
   "display_name": "Python 3",
   "language": "python",
   "name": "python3"
  },
  "language_info": {
   "codemirror_mode": {
    "name": "ipython",
    "version": 2
   },
   "file_extension": ".py",
   "mimetype": "text/x-python",
   "name": "python",
   "nbconvert_exporter": "python",
   "pygments_lexer": "ipython2",
   "version": "2.7.6"
  }
 },
 "nbformat": 4,
 "nbformat_minor": 5
}
