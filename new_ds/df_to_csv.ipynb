{
 "cells": [
  {
   "cell_type": "code",
   "execution_count": 6,
   "outputs": [],
   "source": [
    "import pandas as pd\n",
    "\n",
    "data = {\"Timestamp\": ['5/3/2023 19:42:22', '5/3/2023 19:42:22', '5/3/2023 19:42:22', '5/3/2023 19:42:22', '5/3/2023 19:42:22', '5/16/2023 19:42:22', '6/7/2023 19:42:22', '5/5/2023 19:42:22', '5/3/2023 19:42:22', '5/4/2023 19:42:22', '5/22/2023 19:42:22', '5/3/2023 19:42:22', '5/3/2023 19:42:22', '6/7/2023 19:42:22', '6/7/2023 19:42:22', \n",
    "                      ''],\n",
    "        \"Age\": [12, 12, 22],\n",
    "        \"City\": [\"NY\", \"San Franc\", \"Jakarta\"]}\n",
    "\n",
    "df = pd.DataFrame(data)\n",
    "csv_out = 'class_a.csv'\n",
    "\n",
    "df.to_csv(csv_out, index=False)"
   ],
   "metadata": {
    "collapsed": false,
    "ExecuteTime": {
     "end_time": "2023-11-11T17:29:30.423206Z",
     "start_time": "2023-11-11T17:29:30.393328Z"
    }
   },
   "id": "9df220b8340ac843"
  },
  {
   "cell_type": "code",
   "execution_count": 5,
   "outputs": [
    {
     "data": {
      "text/plain": "    Name  Age       City\n0  alice   12         NY\n1    bob   12  San Franc\n2   alex   22    Jakarta",
      "text/html": "<div>\n<style scoped>\n    .dataframe tbody tr th:only-of-type {\n        vertical-align: middle;\n    }\n\n    .dataframe tbody tr th {\n        vertical-align: top;\n    }\n\n    .dataframe thead th {\n        text-align: right;\n    }\n</style>\n<table border=\"1\" class=\"dataframe\">\n  <thead>\n    <tr style=\"text-align: right;\">\n      <th></th>\n      <th>Name</th>\n      <th>Age</th>\n      <th>City</th>\n    </tr>\n  </thead>\n  <tbody>\n    <tr>\n      <th>0</th>\n      <td>alice</td>\n      <td>12</td>\n      <td>NY</td>\n    </tr>\n    <tr>\n      <th>1</th>\n      <td>bob</td>\n      <td>12</td>\n      <td>San Franc</td>\n    </tr>\n    <tr>\n      <th>2</th>\n      <td>alex</td>\n      <td>22</td>\n      <td>Jakarta</td>\n    </tr>\n  </tbody>\n</table>\n</div>"
     },
     "execution_count": 5,
     "metadata": {},
     "output_type": "execute_result"
    }
   ],
   "source": [
    "x = pd.read_csv('oi.csv')\n",
    "x"
   ],
   "metadata": {
    "collapsed": false,
    "ExecuteTime": {
     "end_time": "2023-11-11T17:28:51.613629Z",
     "start_time": "2023-11-11T17:28:51.568012Z"
    }
   },
   "id": "f214b3a8456dcf39"
  },
  {
   "cell_type": "markdown",
   "source": [],
   "metadata": {
    "collapsed": false
   },
   "id": "d7e431b503857942"
  }
 ],
 "metadata": {
  "kernelspec": {
   "display_name": "Python 3",
   "language": "python",
   "name": "python3"
  },
  "language_info": {
   "codemirror_mode": {
    "name": "ipython",
    "version": 2
   },
   "file_extension": ".py",
   "mimetype": "text/x-python",
   "name": "python",
   "nbconvert_exporter": "python",
   "pygments_lexer": "ipython2",
   "version": "2.7.6"
  }
 },
 "nbformat": 4,
 "nbformat_minor": 5
}
