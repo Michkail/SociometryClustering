{
 "cells": [
  {
   "cell_type": "code",
   "execution_count": 16,
   "metadata": {
    "collapsed": true
   },
   "outputs": [],
   "source": [
    "import pandas as pd\n",
    "\n",
    "df = pd.read_csv('./dataset/Social Science J.csv')\n",
    "\n",
    "def generate_initials(full_name):\n",
    "    return ''.join(word[0].upper() for word in full_name.split())\n",
    "\n",
    "df['NAMA LENGKAP'] = df['NAMA LENGKAP'].apply(generate_initials)\n",
    "df['1. Teman anda yang paling anda sukai di kelas'] = df['1. Teman anda yang paling anda sukai di kelas'].apply(generate_initials)\n",
    "df['2. Teman anda yang paling anda sukai di kelas'] = df['2. Teman anda yang paling anda sukai di kelas'].apply(generate_initials)\n",
    "df['1. Teman anda yang paling anda tidak sukai di kelas'] = df['1. Teman anda yang paling anda tidak sukai di kelas'].apply(generate_initials)\n",
    "df['2. Teman anda yang paling anda tidak sukai di kelas'] = df['2. Teman anda yang paling anda tidak sukai di kelas'].apply(generate_initials)\n",
    "\n",
    "df.to_csv('./new_ds/KUISONER SOSIOMETERI VII J.csv', index=False)\n"
   ]
  },
  {
   "cell_type": "code",
   "execution_count": null,
   "outputs": [],
   "source": [],
   "metadata": {
    "collapsed": false
   }
  }
 ],
 "metadata": {
  "kernelspec": {
   "display_name": "Python 3",
   "language": "python",
   "name": "python3"
  },
  "language_info": {
   "codemirror_mode": {
    "name": "ipython",
    "version": 2
   },
   "file_extension": ".py",
   "mimetype": "text/x-python",
   "name": "python",
   "nbconvert_exporter": "python",
   "pygments_lexer": "ipython2",
   "version": "2.7.6"
  }
 },
 "nbformat": 4,
 "nbformat_minor": 0
}
